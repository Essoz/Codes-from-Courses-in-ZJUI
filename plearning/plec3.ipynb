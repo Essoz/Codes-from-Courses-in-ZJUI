{
 "cells": [
  {
   "cell_type": "code",
   "execution_count": 5,
   "metadata": {},
   "outputs": [
    {
     "name": "stdout",
     "output_type": "stream",
     "text": [
      "Yuxuan, Jiang I love you.\n",
      "Zheyu, Fu I love you.\n",
      "Bo, Pang I love you.\n",
      "Yaqi, Su I love you.\n"
     ]
    },
    {
     "data": {
      "text/plain": [
       "['Zheyu, Fu', 'Yuxuan, Jiang', 'Yaqi, Su', 'Bo, Pang']"
      ]
     },
     "execution_count": 5,
     "metadata": {},
     "output_type": "execute_result"
    }
   ],
   "source": [
    "names=['Yuxuan, Jiang',\"Zheyu, Fu\",'Bo, Pang',\n",
    "       \"Yaqi, Su\"\n",
    "      ]\n",
    "for i in names:\n",
    "    print(i+\" I love you.\")\n",
    "    \n",
    "sorted(names,reverse=True)"
   ]
  },
  {
   "cell_type": "code",
   "execution_count": 6,
   "metadata": {},
   "outputs": [
    {
     "data": {
      "text/plain": [
       "4"
      ]
     },
     "execution_count": 6,
     "metadata": {},
     "output_type": "execute_result"
    }
   ],
   "source": [
    "len(names)"
   ]
  }
 ],
 "metadata": {
  "kernelspec": {
   "display_name": "Python 3",
   "language": "python",
   "name": "python3"
  },
  "language_info": {
   "codemirror_mode": {
    "name": "ipython",
    "version": 3
   },
   "file_extension": ".py",
   "mimetype": "text/x-python",
   "name": "python",
   "nbconvert_exporter": "python",
   "pygments_lexer": "ipython3",
   "version": "3.7.3"
  }
 },
 "nbformat": 4,
 "nbformat_minor": 4
}
