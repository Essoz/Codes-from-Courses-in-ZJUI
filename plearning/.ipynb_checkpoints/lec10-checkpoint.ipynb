{
 "cells": [
  {
   "cell_type": "code",
   "execution_count": 2,
   "metadata": {},
   "outputs": [
    {
     "ename": "SyntaxError",
     "evalue": "invalid syntax (<ipython-input-2-070c5cd635a7>, line 1)",
     "output_type": "error",
     "traceback": [
      "\u001b[0;36m  File \u001b[0;32m\"<ipython-input-2-070c5cd635a7>\"\u001b[0;36m, line \u001b[0;32m1\u001b[0m\n\u001b[0;31m    //\"\"\"Lec10\u001b[0m\n\u001b[0m     ^\u001b[0m\n\u001b[0;31mSyntaxError\u001b[0m\u001b[0;31m:\u001b[0m invalid syntax\n"
     ]
    }
   ],
   "source": [
    "#Lec10 文件和异常"
   ]
  },
  {
   "cell_type": "code",
   "execution_count": null,
   "metadata": {},
   "outputs": [],
   "source": [
    "#10.1.1\n",
    "\n",
    "with open(xxx) as file_object:\n",
    "    contents = file_object.read()\n",
    "    \n",
    "    \n",
    "#10.1.2\n",
    "\n",
    "# in Linux/OS X  folder/folder/file\n",
    "# in Windows     folder\\folder\\file\n",
    "\n",
    "\"\"\"Note: in python,'\\' is considered as an ESCAPE character; thus, in windows, a 'r' should be added precedent to the path\"\"\"\n",
    "\n",
    "\n",
    "#10.1.3 print lines\n",
    "\n",
    "filename = \"pi_digits.txt\"\n",
    "with open(filename) as file_object:\n",
    "    for line in file_object:\n",
    "        print(line.rstrip())      #or else there would be blank lines between each printed line\n",
    "        \n",
    "\n",
    "#10.1.4 create a list containing all lines in a file\n",
    "\n",
    "with open(filename) as file_object:\n",
    "    lines = file_object.readlines()\n",
    "\n",
    "for line in lines:\n",
    "    print(line)\n",
    "    \n",
    "    \n"
   ]
  }
 ],
 "metadata": {
  "kernelspec": {
   "display_name": "Python 3",
   "language": "python",
   "name": "python3"
  },
  "language_info": {
   "codemirror_mode": {
    "name": "ipython",
    "version": 3
   },
   "file_extension": ".py",
   "mimetype": "text/x-python",
   "name": "python",
   "nbconvert_exporter": "python",
   "pygments_lexer": "ipython3",
   "version": "3.7.3"
  }
 },
 "nbformat": 4,
 "nbformat_minor": 4
}
