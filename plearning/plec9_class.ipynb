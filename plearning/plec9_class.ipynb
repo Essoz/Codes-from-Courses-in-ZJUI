{
 "cells": [
  {
   "cell_type": "code",
   "execution_count": 12,
   "metadata": {},
   "outputs": [],
   "source": [
    "class Restaurant():\n",
    "    \n",
    "    def __init__(self, restaurant_name, cuisine_type):\n",
    "        self.restaurant_name = restaurant_name\n",
    "        self.cuisine_type = cuisine_type\n",
    "        \n",
    "    def describe_restaurant(self):\n",
    "        print(self.restaurant_name)\n",
    "        print(self.cuisine_type)\n",
    "        \n",
    "    def open_restaurant(self):\n",
    "        print(\"The restaurant \" + self.restaurant_name + \" is open.\")\n"
   ]
  },
  {
   "cell_type": "code",
   "execution_count": 13,
   "metadata": {},
   "outputs": [],
   "source": [
    "kfc = Restaurant(\"KFC\",\"Fried Chicken\")\n",
    "dnsj = Restaurant(\"大娘水饺\",\"traditional chinese food\")\n",
    "yaqi = Restaurant(\"Yaqi\",\"love\")"
   ]
  },
  {
   "cell_type": "code",
   "execution_count": 19,
   "metadata": {},
   "outputs": [
    {
     "name": "stdout",
     "output_type": "stream",
     "text": [
      "Yaqi💕 with Yuxuan💕 with Yuxuan\n",
      "love\n",
      "The restaurant Yaqi💕 with Yuxuan💕 with Yuxuan is open.\n"
     ]
    },
    {
     "data": {
      "text/plain": [
       "'Yaqi💕 with Yuxuan💕 with Yuxuan💕 with Yuxuan'"
      ]
     },
     "execution_count": 19,
     "metadata": {},
     "output_type": "execute_result"
    }
   ],
   "source": [
    "yaqi.describe_restaurant()\n",
    "yaqi.open_restaurant()\n",
    "yaqi.restaurant_name += \"💕 with Yuxuan\"\n",
    "yaqi.restaurant_name"
   ]
  },
  {
   "cell_type": "code",
   "execution_count": 20,
   "metadata": {},
   "outputs": [],
   "source": [
    "class Love(Restaurant):\n",
    "    \n",
    "    def __init__(self, restaurant_name, cuisine_type):\n",
    "        super().__init__(restaurant_name, cuisine_type)"
   ]
  },
  {
   "cell_type": "code",
   "execution_count": 22,
   "metadata": {},
   "outputs": [],
   "source": [
    "teest=Love(\"Yuxuan\",\"love\")"
   ]
  },
  {
   "cell_type": "code",
   "execution_count": 24,
   "metadata": {},
   "outputs": [
    {
     "data": {
      "text/plain": [
       "'Yuxuan'"
      ]
     },
     "execution_count": 24,
     "metadata": {},
     "output_type": "execute_result"
    }
   ],
   "source": [
    "teest.restaurant_name"
   ]
  }
 ],
 "metadata": {
  "kernelspec": {
   "display_name": "Python 3",
   "language": "python",
   "name": "python3"
  },
  "language_info": {
   "codemirror_mode": {
    "name": "ipython",
    "version": 3
   },
   "file_extension": ".py",
   "mimetype": "text/x-python",
   "name": "python",
   "nbconvert_exporter": "python",
   "pygments_lexer": "ipython3",
   "version": "3.7.3"
  }
 },
 "nbformat": 4,
 "nbformat_minor": 4
}
